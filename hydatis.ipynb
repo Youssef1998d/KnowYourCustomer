{
 "cells": [
  {
   "cell_type": "code",
   "execution_count": 35,
   "metadata": {},
   "outputs": [
    {
     "ename": "error",
     "evalue": "OpenCV(4.5.4) D:\\a\\opencv-python\\opencv-python\\opencv\\modules\\objdetect\\src\\cascadedetect.cpp:1689: error: (-215:Assertion failed) !empty() in function 'cv::CascadeClassifier::detectMultiScale'\n",
     "output_type": "error",
     "traceback": [
      "\u001b[1;31m---------------------------------------------------------------------------\u001b[0m",
      "\u001b[1;31merror\u001b[0m                                     Traceback (most recent call last)",
      "Cell \u001b[1;32mIn[35], line 21\u001b[0m\n\u001b[0;32m     19\u001b[0m cascadefile \u001b[39m=\u001b[39m dirCascadeFiles \u001b[39m+\u001b[39m \u001b[39m\"\u001b[39m\u001b[39mhaarcascade_frontalface_default.xml\u001b[39m\u001b[39m\"\u001b[39m\n\u001b[0;32m     20\u001b[0m classCascade \u001b[39m=\u001b[39m cv2\u001b[39m.\u001b[39mCascadeClassifier(cascadefile)\n\u001b[1;32m---> 21\u001b[0m faces \u001b[39m=\u001b[39m classCascade\u001b[39m.\u001b[39;49mdetectMultiScale(\n\u001b[0;32m     22\u001b[0m     gray,\n\u001b[0;32m     23\u001b[0m     scaleFactor\u001b[39m=\u001b[39;49m\u001b[39m1.1\u001b[39;49m,\n\u001b[0;32m     24\u001b[0m     minNeighbors\u001b[39m=\u001b[39;49m\u001b[39m5\u001b[39;49m,\n\u001b[0;32m     25\u001b[0m     minSize\u001b[39m=\u001b[39;49m(\u001b[39m30\u001b[39;49m, \u001b[39m30\u001b[39;49m),\n\u001b[0;32m     26\u001b[0m     flags \u001b[39m=\u001b[39;49m cv2\u001b[39m.\u001b[39;49mCASCADE_SCALE_IMAGE\n\u001b[0;32m     27\u001b[0m )\n\u001b[0;32m     28\u001b[0m \u001b[39mprint\u001b[39m(\u001b[39m\"\u001b[39m\u001b[39mIl y a \u001b[39m\u001b[39m{0}\u001b[39;00m\u001b[39m visage(s).\u001b[39m\u001b[39m\"\u001b[39m\u001b[39m.\u001b[39mformat(\u001b[39mlen\u001b[39m(faces)))\n\u001b[0;32m     29\u001b[0m \u001b[39m# Coordonnées des rectangles des visages détectés (x, y, w, h)\u001b[39;00m\n",
      "\u001b[1;31merror\u001b[0m: OpenCV(4.5.4) D:\\a\\opencv-python\\opencv-python\\opencv\\modules\\objdetect\\src\\cascadedetect.cpp:1689: error: (-215:Assertion failed) !empty() in function 'cv::CascadeClassifier::detectMultiScale'\n"
     ]
    }
   ],
   "source": [
    "\n",
    "try:\n",
    "    from PIL import Image\n",
    "except ImportError:\n",
    "    import Image\n",
    "import pytesseract\n",
    "from pytesseract import Output\n",
    "import cv2\n",
    "import numpy as np\n",
    "from matplotlib import pyplot as plt\n",
    "from ArabicOcr import arabicocr\n",
    "import json \n",
    "\n",
    "\n",
    "# Cropping ID photo\n",
    "imagePath = r'aaa.jpg'\n",
    "dirCascadeFiles = r'../opencv/haarcascades_cuda/'\n",
    "image = cv2.imread(imagePath)\n",
    "gray = cv2.cvtColor(image, cv2.COLOR_BGR2GRAY)\n",
    "cascadefile = dirCascadeFiles + \"haarcascade_frontalface_default.xml\"\n",
    "classCascade = cv2.CascadeClassifier(cascadefile)\n",
    "faces = classCascade.detectMultiScale(\n",
    "    gray,\n",
    "    scaleFactor=1.1,\n",
    "    minNeighbors=5,\n",
    "    minSize=(30, 30),\n",
    "    flags = cv2.CASCADE_SCALE_IMAGE\n",
    ")\n",
    "print(\"Il y a {0} visage(s).\".format(len(faces)))\n",
    "# Coordonnées des rectangles des visages détectés (x, y, w, h)\n",
    "for (x, y, w, h) in faces:\n",
    "    cv2.rectangle(image, (x, y), (x+w, y+h), (0, 255, 0), 2)\n",
    " \n",
    "plt.imshow(image)\n",
    "\n",
    "\n",
    "\n",
    "# Extractin the photo\n",
    "f = faces[0]\n",
    "plt.imshow(image[f[1]:f[1]+f[3], f[0]:f[0]+f[2]])\n",
    "\n",
    "# extracting data from ID card\n",
    "\n",
    "path_to_tesseract = r'C:\\\\Program Files\\\\Tesseract-OCR\\\\tesseract.exe'\n",
    "\n",
    "image_path='C:\\\\Users\\\\anisg\\Desktop\\\\hydatis\\\\aaa.jpg'\n",
    "out_image='C:\\\\Users\\\\anisg\\Desktop\\\\hydatis\\\\out.jpg'\n",
    "\n",
    "pytesseract.tesseract_cmd = path_to_tesseract\n",
    "\n",
    "img = Image.open(image_path)\n",
    "\n",
    "results=arabicocr.arabic_ocr(image_path,out_image)\n",
    "print(results)\n",
    "words=[]\n",
    "for i in range(len(results)):\t\n",
    "\t\tword=results[i][1]\n",
    "\t\twords.append(word)\n",
    "with open ('file.txt','w',encoding='utf-16')as myfile:\n",
    "\t\tmyfile.write(str(words))\n",
    "jsonString = json.dumps(words)\n",
    "jsonFile = open(\"data.json\", \"w\")\n",
    "jsonFile.write(jsonString)\n",
    "jsonFile.close()\n",
    "\n",
    "# other solution to extract data from the ID with cutting the photo\n",
    "image = cv2.imread(image_path)\n",
    "x = 100\n",
    "y = 65\n",
    "w = 450\n",
    "h = 87\n",
    "plt.imshow(cv2.rectangle(image, (x, y), (w, h), (0, 255, 0), 2))\n",
    "\n",
    "\n",
    "region_Nom = image[y:h, x:w]\n",
    "plt.imshow(region_Nom)\n",
    "\n",
    "NomCI = pytesseract.image_to_string(region_Nom)\n",
    "print(NomCI)\n"
   ]
  }
 ],
 "metadata": {
  "kernelspec": {
   "display_name": "Python 3",
   "language": "python",
   "name": "python3"
  },
  "language_info": {
   "codemirror_mode": {
    "name": "ipython",
    "version": 3
   },
   "file_extension": ".py",
   "mimetype": "text/x-python",
   "name": "python",
   "nbconvert_exporter": "python",
   "pygments_lexer": "ipython3",
   "version": "3.10.9"
  },
  "orig_nbformat": 4,
  "vscode": {
   "interpreter": {
    "hash": "3da8ad737fbc404dbc7991cc1fe3c2916527eacbcd7fb384c70370957404b314"
   }
  }
 },
 "nbformat": 4,
 "nbformat_minor": 2
}
